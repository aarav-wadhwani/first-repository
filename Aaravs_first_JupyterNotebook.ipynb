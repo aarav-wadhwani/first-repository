{
  "nbformat": 4,
  "nbformat_minor": 0,
  "metadata": {
    "colab": {
      "name": "CCIR Section_1 Task_3.ipynb",
      "provenance": [],
      "collapsed_sections": [],
      "toc_visible": true,
      "include_colab_link": true
    },
    "kernelspec": {
      "name": "python3",
      "display_name": "Python 3"
    },
    "language_info": {
      "name": "python"
    }
  },
  "cells": [
    {
      "cell_type": "markdown",
      "metadata": {
        "id": "view-in-github",
        "colab_type": "text"
      },
      "source": [
        "<a href=\"https://colab.research.google.com/github/aarav-wadhwani/first-repository/blob/main/Aaravs_first_JupyterNotebook.ipynb\" target=\"_parent\"><img src=\"https://colab.research.google.com/assets/colab-badge.svg\" alt=\"Open In Colab\"/></a>"
      ]
    },
    {
      "cell_type": "markdown",
      "metadata": {
        "id": "Wbk4Eliu4Nuh"
      },
      "source": [
        "## Task 3: Create your first Jupyter Notebook!\n",
        "- Objectives:\n",
        "    - Know how to interact with and compose a Jupyter Notebook on Colab.\n",
        "- Walkthrough:\n",
        "    - Open the required .ipynb file and save a copy in your Google Drive\n",
        "    - Solve the problems and save with the output.\n",
        "    - Save a copy to your repo (under CCIR-Academy).\n",
        "- Note: Solve the questions whichever way you like, and don't worry about whether you are doing them the right way or even correctly as you may discover more convenient or elegant way of doing it; the more common way of solving them will be discussed in the later section."
      ]
    },
    {
      "cell_type": "code",
      "metadata": {
        "id": "F7pPNcu3tlml",
        "colab": {
          "base_uri": "https://localhost:8080/"
        },
        "outputId": "72572e29-efea-436b-b6e6-87112805aa9d"
      },
      "source": [
        "# Challenge 1: Obtain a new variable named \"targetA\" which equals 9 (as an integer) by using data in the provided list and basic arithmatic operaters. \n",
        "numList = [2,7,11,15]\n",
        "targetA = 0\n",
        "### Write your code below\n",
        "\n",
        "targetA = numList[0] + numList[1]\n",
        "values_to_sum = numList[:2]\n",
        "print(\"We will add {} to obtain the target value.\".format(values_to_sum))\n",
        "\n",
        "### Write your code above\n",
        "print(\"My target equals %s, so I got it %s!\" % (targetA, (\"right\" if targetA == 9 else \"wrong\")))\n"
      ],
      "execution_count": 1,
      "outputs": [
        {
          "output_type": "stream",
          "text": [
            "We will add [2, 7] to obtain the target value.\n",
            "My target equals 9, so I got it right!\n"
          ],
          "name": "stdout"
        }
      ]
    },
    {
      "cell_type": "code",
      "metadata": {
        "id": "tYnQ_z0MwMtr",
        "colab": {
          "base_uri": "https://localhost:8080/"
        },
        "outputId": "19a44c8d-bded-4c41-eb95-19513ea1df0f"
      },
      "source": [
        "# Challenge 2: Obtain a reversed list for numList\n",
        "numList = [2,7,11,15]\n",
        "targetList = []\n",
        "### Write your code below\n",
        "\n",
        "targetList = numList[::-1]\n",
        "\n",
        "### Write your code above\n",
        "print(\"My target List is %s\" % targetList)\n",
        "\n"
      ],
      "execution_count": 3,
      "outputs": [
        {
          "output_type": "stream",
          "text": [
            "My target List is [15, 11, 7, 2]\n"
          ],
          "name": "stdout"
        }
      ]
    },
    {
      "cell_type": "code",
      "metadata": {
        "id": "6equfrccw8nt",
        "colab": {
          "base_uri": "https://localhost:8080/"
        },
        "outputId": "15597786-3e0e-4e4e-80da-1f044070cf1e"
      },
      "source": [
        "# Challenge 3: Get the sum of the elements in the list\n",
        "numList = [2,7,11,15]\n",
        "numListSum = 0\n",
        "### Write your code below\n",
        "\n",
        "numListSum = sum(numList)\n",
        "\n",
        "\n",
        "### Write your code above\n",
        "print(\"My sum equals %s, so I got it %s!\" % (numListSum, (\"right\" if numListSum == 35 else \"wrong\")))"
      ],
      "execution_count": 5,
      "outputs": [
        {
          "output_type": "stream",
          "text": [
            "My sum equals 35, so I got it right!\n"
          ],
          "name": "stdout"
        }
      ]
    },
    {
      "cell_type": "code",
      "metadata": {
        "id": "qWj5jIsIy8ZH",
        "colab": {
          "base_uri": "https://localhost:8080/"
        },
        "outputId": "f4246d8b-be2c-4144-9ff1-923d81c0d284"
      },
      "source": [
        "# Challenge 4: Sort the list from small to big!\n",
        "numList = [7,2,15,11]\n",
        "targetList = []\n",
        "### Write your code below\n",
        "\n",
        "numList.sort()\n",
        "targetList = numList\n",
        "\n",
        "### Write your code above\n",
        "print(\"My target List is %s\" % targetList)\n"
      ],
      "execution_count": 7,
      "outputs": [
        {
          "output_type": "stream",
          "text": [
            "My target List is [2, 7, 11, 15]\n"
          ],
          "name": "stdout"
        }
      ]
    }
  ]
}